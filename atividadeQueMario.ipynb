{
  "nbformat": 4,
  "nbformat_minor": 0,
  "metadata": {
    "colab": {
      "provenance": [],
      "toc_visible": true,
      "authorship_tag": "ABX9TyOuHM1NTdzjn/wMUzvuN8+g",
      "include_colab_link": true
    },
    "kernelspec": {
      "name": "python3",
      "display_name": "Python 3"
    },
    "language_info": {
      "name": "python"
    }
  },
  "cells": [
    {
      "cell_type": "markdown",
      "metadata": {
        "id": "view-in-github",
        "colab_type": "text"
      },
      "source": [
        "<a href=\"https://colab.research.google.com/github/COAP230023/atividade-praticas-em-numpy-BrunoCarmoS2004/blob/main/atividadeQueMario.ipynb\" target=\"_parent\"><img src=\"https://colab.research.google.com/assets/colab-badge.svg\" alt=\"Open In Colab\"/></a>"
      ]
    },
    {
      "cell_type": "markdown",
      "source": [
        "# Treino de NumPy — 42 exercícios hands-on\n",
        "\n",
        "**Objetivo:** praticar manipulação de arrays NumPy (criação, slicing, broadcasting, álgebra linear, estatística, datas, strides).\n",
        "**Regras:** use **apenas** NumPy (`import numpy as np`). Para reprodutibilidade, prefira `np.random.default_rng(seed)`.\n",
        "\n",
        "\n",
        "## Fáceis (24)\n",
        "\n",
        "### 1. Vetor de zeros  _(fácil)_\n",
        "\n",
        "Crie um array 1D com 10 zeros usando NumPy e mostre o dtype e o shape.\n",
        "\n",
        "\n",
        "### 2. Vetor de uns  _(fácil)_\n",
        "\n",
        "Crie um array 1D com 10 uns e transforme-o em float64.\n",
        "\n",
        "\n",
        "### 3. Sequência 0–9  _(fácil)_\n",
        "\n",
        "Crie um array com os inteiros de 0 a 9 (inclusive).\n",
        "\n",
        "\n",
        "### 4. Matriz 3×3 com 0…8  _(fácil)_\n",
        "\n",
        "Crie um array 3×3 com os valores 0…8 (reshape).\n",
        "\n",
        "\n",
        "### 5. Índices não zero  _(fácil)_\n",
        "\n",
        "Dado o vetor `v = np.array([1,2,0,0,4,0])`, encontre os índices dos elementos não nulos.\n",
        "\n",
        "\n",
        "### 6. Linspace  _(fácil)_\n",
        "\n",
        "Crie um vetor de 12 pontos igualmente espaçados no intervalo [0, 1].\n",
        "\n",
        "\n",
        "### 7. Identidade 5×5  _(fácil)_\n",
        "\n",
        "Crie uma matriz identidade de ordem 5.\n",
        "\n",
        "\n",
        "### 8. Aleatórios 3×3×3  _(fácil)_\n",
        "\n",
        "Gere um array 3×3×3 com valores aleatórios uniformes em [0,1). Use `np.random.default_rng(42)`.\n",
        "\n",
        "\n",
        "### 9. Min/Max  _(fácil)_\n",
        "\n",
        "Crie uma matriz 10×10 de aleatórios uniformes e mostre o valor mínimo e máximo.\n",
        "\n",
        "\n",
        "### 10. Padronização 1D  _(fácil)_\n",
        "\n",
        "Dado `x = [1,2,3,4,5]`, crie um array float e normalize para média 0 e desvio 1.\n",
        "\n",
        "\n",
        "### 11. Conversão de tipos  _(fácil)_\n",
        "\n",
        "Converta `np.array([1,2,3])` (int32) para float32 e depois para int64.\n",
        "\n",
        "\n",
        "### 12. Clipping  _(fácil)_\n",
        "\n",
        "Dado `a = [2, 5, 7, 1, 9]`, limite os valores ao intervalo [0,5] (valores acima de 5 tornam-se 5).\n",
        "\n",
        "\n",
        "### 13. Inversão  _(fácil)_\n",
        "\n",
        "Crie um vetor de 0 a 9 e inverta a ordem (sem usar `[::-1]`).\n",
        "\n",
        "\n",
        "### 14. Empilhamento  _(fácil)_\n",
        "\n",
        "Dado `a = [1,2,3]` e `b = [4,5,6]`, empilhe horizontal e verticalmente.\n",
        "\n",
        "\n",
        "### 15. Diagonal  _(fácil)_\n",
        "\n",
        "Crie uma matriz 4×4 com a diagonal principal igual a 5 e as demais entradas zero.\n",
        "\n",
        "\n",
        "### 16. Somas por eixo  _(fácil)_\n",
        "\n",
        "Para a matriz `A = np.arange(12).reshape(3,4)`, calcule a soma por linhas e por colunas.\n",
        "\n",
        "\n",
        "### 17. Frequências inteiras  _(fácil)_\n",
        "\n",
        "Gere 100 inteiros aleatórios em [0,9] e conte as frequências de cada valor (0 a 9).\n",
        "\n",
        "\n",
        "### 18. Slicing com passo  _(fácil)_\n",
        "\n",
        "Dado `v = np.arange(20)`, selecione cada 3º elemento começando do índice 1.\n",
        "\n",
        "\n",
        "### 19. Máscara booleana  _(fácil)_\n",
        "\n",
        "Crie uma máscara para números pares de `0…19` e use-a para filtrar o vetor.\n",
        "\n",
        "\n",
        "### 20. Lista de listas → array  _(fácil)_\n",
        "\n",
        "Converta `[[1,2,3],[4,5,6]]` em `ndarray`, verifique `shape` e `dtype`.\n",
        "\n",
        "\n",
        "### 21. Datas básicas  _(fácil)_\n",
        "\n",
        "Crie um array de datas diárias de 2025-01-01 a 2025-01-07 (inclusive).\n",
        "\n",
        "\n",
        "### 22. Centralizar colunas  _(fácil)_\n",
        "\n",
        "Dada `A = np.array([[1.,2.,3.],[4.,5.,6.]])`, subtraia a média de cada coluna.\n",
        "\n",
        "\n",
        "### 23. Produto elemento-a-elemento vs. escalar  _(fácil)_\n",
        "\n",
        "Dadas `a=[1,2,3]` e `b=[4,5,6]`, calcule produto elemento a elemento e o produto escalar.\n",
        "\n",
        "\n",
        "### 24. Troca de colunas  _(fácil)_\n",
        "\n",
        "Troque as colunas 0 e 2 de `A = np.arange(12).reshape(3,4)` sem copiar (sempre que possível).\n",
        "\n",
        "\n",
        "\n",
        "## Médios (12)\n",
        "\n",
        "### 25. Flatten vs. ravel  _(médio)_\n",
        "\n",
        "Mostre a diferença entre `flatten()` (cópia) e `ravel()` (view quando possível). Modifique o resultado de `ravel()` e observe o original.\n",
        "\n",
        "\n",
        "### 26. Tabuleiro 8×8  _(médio)_\n",
        "\n",
        "Crie uma matriz 8×8 com padrão de tabuleiro (0 e 1 alternados).\n",
        "\n",
        "\n",
        "### 27. np.where condicional  _(médio)_\n",
        "\n",
        "Dado `x = np.arange(-5,6)`, substitua negativos por 0 e mantenha não-negativos.\n",
        "\n",
        "\n",
        "### 28. Precisão de média  _(médio)_\n",
        "\n",
        "Gere 1_000_000 floats uniformes em [0,1) e compute a média. Compare com o valor teórico 0.5 (erro absoluto).\n",
        "\n",
        "\n",
        "### 29. Produto cartesiano (broadcasting)  _(médio)_\n",
        "\n",
        "Dado `a=[1,2,3]` e `b=[10,20,30,40]`, gere todas as somas possíveis `a_i + b_j` via broadcasting (matriz 3×4).\n",
        "\n",
        "\n",
        "### 30. Convolução 1D simples  _(médio)_\n",
        "\n",
        "Implemente uma convolução 1D 'valid' de um sinal `s` por um kernel `k` usando `np.flip` e `np.lib.stride_tricks.sliding_window_view` (sem `np.convolve`).\n",
        "\n",
        "\n",
        "### 31. Normalização min–max por coluna  _(médio)_\n",
        "\n",
        "Dada `A = rng.normal(size=(5,4))`, normalize cada coluna para o intervalo [0,1], tratando colunas constantes.\n",
        "\n",
        "\n",
        "### 32. Ordenar por coluna  _(médio)_\n",
        "\n",
        "Ordene as linhas de `A = np.array([[3,9],[1,4],[2,5]])` pelo valor crescente da 2ª coluna.\n",
        "\n",
        "\n",
        "### 33. Únicos + contagens + primeira ocorrência  _(médio)_\n",
        "\n",
        "Para `x = [3,1,2,3,2,3,1]`, obtenha valores únicos, contagens e índice da primeira ocorrência de cada valor.\n",
        "\n",
        "\n",
        "### 34. Matriz de distâncias 2D  _(médio)_\n",
        "\n",
        "Dada `P` com N pontos 2D, compute a matriz NxN de distâncias euclidianas sem loops explícitos.\n",
        "\n",
        "\n",
        "### 35. Covariância e correlação  _(médio)_\n",
        "\n",
        "Simule uma matriz 1000×3 de N(0,1) e compute `cov` (colunas como variáveis) e `corrcoef`.\n",
        "\n",
        "\n",
        "### 36. One-hot encoding  _(médio)_\n",
        "\n",
        "Converta os rótulos `y = [2,0,1,2]` em codificação one-hot usando apenas operações NumPy.\n",
        "\n",
        "\n",
        "\n",
        "## Difíceis (6)\n",
        "\n",
        "### 37. k-means 2D (NumPy puro)  _(difícil)_\n",
        "\n",
        "Implemente k-means com K=3 em pontos 2D: inicialize centróides aleatórios, faça 10 iterações de (1) atribuir pontos ao centróide mais próximo e (2) recomputar centróides.\n",
        "\n",
        "\n",
        "### 38. PCA básica (autovetores)  _(difícil)_\n",
        "\n",
        "Implemente PCA 2D→1D: centralize `X` (N×2), calcule covariância, autovetores, projete em 1D e reconstrua aproximado.\n",
        "\n",
        "\n",
        "### 39. Convolução 2D (im2col)  _(difícil)_\n",
        "\n",
        "Implemente convolução 2D 'valid' de uma imagem `I` por um kernel `K` usando `sliding_window_view` para gerar blocos e multiplicação matricial.\n",
        "\n",
        "\n",
        "### 40. Sistemas lineares e resíduo  _(difícil)_\n",
        "\n",
        "Gere uma matriz A (100×100) bem-condicionada, um vetor b e resolva `Ax=b` com `np.linalg.solve`. Compute o resíduo relativo `||Ax−b||/||b||` e `cond(A)`.\n",
        "\n",
        "\n",
        "### 41. Regressão linear (OLS) com NumPy  _(difícil)_\n",
        "\n",
        "Dado `X` (N×d) e `y`, calcule os coeficientes OLS usando `np.linalg.lstsq` e avalie RMSE no treino.\n",
        "\n",
        "\n",
        "### 42. Rolling window 2D com strides  _(difícil)_\n",
        "\n",
        "Usando `sliding_window_view`, compute a média local 3×3 de uma imagem 2D sem laços explícitos."
      ],
      "metadata": {
        "id": "dINW0pfy4Orn"
      }
    },
    {
      "cell_type": "code",
      "source": [
        "import numpy as np"
      ],
      "metadata": {
        "id": "ol2G1Kfg4T-c"
      },
      "execution_count": 1,
      "outputs": []
    },
    {
      "cell_type": "markdown",
      "source": [
        "### 1. Vetor de zeros  _(fácil)_\n",
        "\n",
        "Crie um array 1D com 10 zeros usando NumPy e mostre o dtype e o shape."
      ],
      "metadata": {
        "id": "71cqJ2Ka4411"
      }
    },
    {
      "cell_type": "code",
      "source": [
        "array = np.zeros(10)\n",
        "print(array.dtype)\n",
        "print(array.shape)"
      ],
      "metadata": {
        "colab": {
          "base_uri": "https://localhost:8080/"
        },
        "id": "8Kbgfh4a5Ada",
        "outputId": "a0bf6ea8-9e22-49cd-aed0-97a535ea3219"
      },
      "execution_count": null,
      "outputs": [
        {
          "output_type": "stream",
          "name": "stdout",
          "text": [
            "float64\n",
            "(10,)\n"
          ]
        }
      ]
    },
    {
      "cell_type": "markdown",
      "source": [
        "### 2. Vetor de uns  _(fácil)_\n",
        "\n",
        "Crie um array 1D com 10 uns e transforme-o em float64."
      ],
      "metadata": {
        "id": "ose_yyY-5hqQ"
      }
    },
    {
      "cell_type": "code",
      "source": [
        "array = np.ones(10)\n",
        "array = np.float64(array)\n",
        "print(array.dtype)"
      ],
      "metadata": {
        "colab": {
          "base_uri": "https://localhost:8080/"
        },
        "id": "EY9Hok2X5iKy",
        "outputId": "c42bc29d-03ee-43af-b41d-bcbc9befd7a7"
      },
      "execution_count": null,
      "outputs": [
        {
          "output_type": "stream",
          "name": "stdout",
          "text": [
            "float64\n"
          ]
        }
      ]
    },
    {
      "cell_type": "markdown",
      "source": [
        "### 3. Sequência 0–9  _(fácil)_\n",
        "\n",
        "Crie um array com os inteiros de 0 a 9 (inclusive)."
      ],
      "metadata": {
        "id": "532ExyS56IbJ"
      }
    },
    {
      "cell_type": "code",
      "source": [
        "array = np.arange(10)\n",
        "print(array)"
      ],
      "metadata": {
        "colab": {
          "base_uri": "https://localhost:8080/"
        },
        "id": "83-AhLru7UWt",
        "outputId": "5ca7b568-a6d3-41b3-86d6-04a95566f8fc"
      },
      "execution_count": null,
      "outputs": [
        {
          "output_type": "stream",
          "name": "stdout",
          "text": [
            "[0 1 2 3 4 5 6 7 8 9]\n"
          ]
        }
      ]
    },
    {
      "cell_type": "markdown",
      "source": [
        "### 4. Matriz 3×3 com 0…8  _(fácil)_\n",
        "\n",
        "Crie um array 3×3 com os valores 0…8 (reshape)."
      ],
      "metadata": {
        "id": "JuSCTwfw7lYB"
      }
    },
    {
      "cell_type": "code",
      "source": [
        "array = np.arange(9).reshape((3,3))\n",
        "print(array)"
      ],
      "metadata": {
        "colab": {
          "base_uri": "https://localhost:8080/"
        },
        "id": "hJHJ4sQH7mWy",
        "outputId": "99ccec4c-d79e-4495-f69c-5765db9c1481"
      },
      "execution_count": null,
      "outputs": [
        {
          "output_type": "stream",
          "name": "stdout",
          "text": [
            "[[0 1 2]\n",
            " [3 4 5]\n",
            " [6 7 8]]\n"
          ]
        }
      ]
    },
    {
      "cell_type": "markdown",
      "source": [
        "### 5. Índices não zero  _(fácil)_\n",
        "\n",
        "Dado o vetor `v = np.array([1,2,0,0,4,0])`, encontre os índices dos elementos não nulos.\n"
      ],
      "metadata": {
        "id": "eHIzh40z8tD3"
      }
    },
    {
      "cell_type": "code",
      "source": [
        "v = np.array([1,2,0,0,4,0])\n",
        "v = np.where(v == 0)\n",
        "print(v)"
      ],
      "metadata": {
        "colab": {
          "base_uri": "https://localhost:8080/"
        },
        "id": "M8rU4KJ28tpW",
        "outputId": "b2f58a1e-70f5-4165-dd7d-cb19736ed081"
      },
      "execution_count": null,
      "outputs": [
        {
          "output_type": "stream",
          "name": "stdout",
          "text": [
            "(array([2, 3, 5]),)\n"
          ]
        }
      ]
    },
    {
      "cell_type": "markdown",
      "source": [
        "### 6. Linspace  _(fácil)_\n",
        "\n",
        "Crie um vetor de 12 pontos igualmente espaçados no intervalo [0, 1]."
      ],
      "metadata": {
        "id": "ZDTsJKNm-Z85"
      }
    },
    {
      "cell_type": "code",
      "source": [
        "v = np.arange(0, 12, 1)\n",
        "print(v)"
      ],
      "metadata": {
        "colab": {
          "base_uri": "https://localhost:8080/"
        },
        "id": "KJE1_6E_-dVB",
        "outputId": "0462b11c-8cc6-41d3-ba12-e87c390af3f9"
      },
      "execution_count": null,
      "outputs": [
        {
          "output_type": "stream",
          "name": "stdout",
          "text": [
            "[ 0  1  2  3  4  5  6  7  8  9 10 11]\n"
          ]
        }
      ]
    },
    {
      "cell_type": "markdown",
      "source": [
        "### 7. Identidade 5×5  _(fácil)_\n",
        "\n",
        "Crie uma matriz identidade de ordem 5.\n"
      ],
      "metadata": {
        "id": "wGn44hYd_oSn"
      }
    },
    {
      "cell_type": "code",
      "source": [
        "v = np.eye(5)\n",
        "print(v)"
      ],
      "metadata": {
        "colab": {
          "base_uri": "https://localhost:8080/"
        },
        "id": "QAI9ZBrt_pDr",
        "outputId": "8d3bfd20-d979-4ba9-a667-9b7a08e121c2"
      },
      "execution_count": null,
      "outputs": [
        {
          "output_type": "stream",
          "name": "stdout",
          "text": [
            "[[1. 0. 0. 0. 0.]\n",
            " [0. 1. 0. 0. 0.]\n",
            " [0. 0. 1. 0. 0.]\n",
            " [0. 0. 0. 1. 0.]\n",
            " [0. 0. 0. 0. 1.]]\n"
          ]
        }
      ]
    },
    {
      "cell_type": "markdown",
      "source": [
        "### 8. Aleatórios 3×3×3  _(fácil)_\n",
        "\n",
        "Gere um array 3×3×3 com valores aleatórios uniformes em [0,1). Use `np.random.default_rng(42)`."
      ],
      "metadata": {
        "id": "QAwwQu59AVhR"
      }
    },
    {
      "cell_type": "code",
      "source": [
        "\n",
        "\n",
        "random_array = np.random.default_rng(42).random((3, 3, 3))\n",
        "print(random_array)"
      ],
      "metadata": {
        "colab": {
          "base_uri": "https://localhost:8080/"
        },
        "id": "h00s2fGSAWWK",
        "outputId": "9aedb96e-d215-4284-9e42-5bdfda936c90"
      },
      "execution_count": null,
      "outputs": [
        {
          "output_type": "stream",
          "name": "stdout",
          "text": [
            "[[[0.77395605 0.43887844 0.85859792]\n",
            "  [0.69736803 0.09417735 0.97562235]\n",
            "  [0.7611397  0.78606431 0.12811363]]\n",
            "\n",
            " [[0.45038594 0.37079802 0.92676499]\n",
            "  [0.64386512 0.82276161 0.4434142 ]\n",
            "  [0.22723872 0.55458479 0.06381726]]\n",
            "\n",
            " [[0.82763117 0.6316644  0.75808774]\n",
            "  [0.35452597 0.97069802 0.89312112]\n",
            "  [0.7783835  0.19463871 0.466721  ]]]\n"
          ]
        }
      ]
    },
    {
      "cell_type": "markdown",
      "source": [
        "### 9. Min/Max  _(fácil)_\n",
        "\n",
        "Crie uma matriz 10×10 de aleatórios uniformes e mostre o valor mínimo e máximo."
      ],
      "metadata": {
        "id": "quQTufvUCIOi"
      }
    },
    {
      "cell_type": "code",
      "metadata": {
        "colab": {
          "base_uri": "https://localhost:8080/"
        },
        "id": "f01b615f",
        "outputId": "fbf44639-5890-47e5-97ec-afd31a67c057"
      },
      "source": [
        "v = np.random.rand(10, 10)\n",
        "print(v)\n",
        "min = np.min(v)\n",
        "max = np.max(v)\n",
        "print(min)\n",
        "print(max)"
      ],
      "execution_count": null,
      "outputs": [
        {
          "output_type": "stream",
          "name": "stdout",
          "text": [
            "[[0.0922307  0.7655112  0.46749211 0.24219907 0.37620305 0.31247263\n",
            "  0.41391738 0.13292747 0.2226188  0.31212787]\n",
            " [0.68851457 0.16156395 0.32885278 0.23373819 0.75561552 0.77587845\n",
            "  0.19115534 0.13477572 0.5321893  0.08680689]\n",
            " [0.72536757 0.08450703 0.31547455 0.86353712 0.55411719 0.03545875\n",
            "  0.4054754  0.91976935 0.72473943 0.01525416]\n",
            " [0.91740434 0.58380865 0.06211212 0.23031035 0.65687001 0.88918341\n",
            "  0.56491995 0.12807204 0.61595064 0.78331501]\n",
            " [0.8240524  0.35094288 0.72568104 0.09667404 0.82119186 0.42265573\n",
            "  0.39876479 0.30663361 0.73638825 0.47115207]\n",
            " [0.0051562  0.96231961 0.77769218 0.98395348 0.09470388 0.25643968\n",
            "  0.2660106  0.88234016 0.18199335 0.06003447]\n",
            " [0.30510101 0.21349685 0.34395456 0.41024358 0.29291978 0.7453171\n",
            "  0.88318638 0.04434351 0.27268337 0.26237149]\n",
            " [0.08534524 0.31447406 0.08070911 0.75300483 0.9026865  0.680671\n",
            "  0.06556933 0.00853405 0.38071013 0.83237242]\n",
            " [0.93778281 0.67535392 0.30277878 0.4010867  0.93279948 0.35805935\n",
            "  0.65087629 0.03342995 0.91923914 0.6891602 ]\n",
            " [0.41457908 0.18924915 0.11414763 0.08601121 0.38785556 0.18505455\n",
            "  0.41644591 0.75083015 0.0690215  0.33223297]]\n",
            "0.0051561981384739\n",
            "0.9839534791406669\n"
          ]
        }
      ]
    },
    {
      "cell_type": "markdown",
      "source": [
        "### 10. Padronização 1D  _(fácil)_\n",
        "\n",
        "Dado `x = [1,2,3,4,5]`, crie um array float e normalize para média 0 e desvio 1."
      ],
      "metadata": {
        "id": "kRqgvxUGDqDU"
      }
    },
    {
      "cell_type": "code",
      "source": [
        "v = np.array([1,2,3,4,5])\n",
        "media = v.mean()\n",
        "desvio = v.std()\n",
        "v = (v - media) / desvio\n",
        "print(v)"
      ],
      "metadata": {
        "colab": {
          "base_uri": "https://localhost:8080/"
        },
        "id": "km7B0YTpDvDC",
        "outputId": "dc56263e-b378-4ca9-f8cf-5339740582bc"
      },
      "execution_count": null,
      "outputs": [
        {
          "output_type": "stream",
          "name": "stdout",
          "text": [
            "[-1.41421356 -0.70710678  0.          0.70710678  1.41421356]\n"
          ]
        }
      ]
    },
    {
      "cell_type": "markdown",
      "source": [
        "### 11. Conversão de tipos  _(fácil)_\n",
        "\n",
        "Converta `np.array([1,2,3])` (int32) para float32 e depois para int64."
      ],
      "metadata": {
        "id": "I_yAVSmMEovx"
      }
    },
    {
      "cell_type": "code",
      "source": [
        "v = np.array([1,2,3], dtype=np.uint32)\n",
        "print(v)\n",
        "v = np.array(v, dtype= np.float32)\n",
        "print(v)\n",
        "v = np.array(v, dtype=np.uint64)\n",
        "print(v)\n"
      ],
      "metadata": {
        "colab": {
          "base_uri": "https://localhost:8080/"
        },
        "id": "CLIlbGFKEphs",
        "outputId": "263e26e1-665d-4370-9b35-48fc7b1ded38"
      },
      "execution_count": null,
      "outputs": [
        {
          "output_type": "stream",
          "name": "stdout",
          "text": [
            "[1 2 3]\n",
            "[1. 2. 3.]\n",
            "[1 2 3]\n"
          ]
        }
      ]
    },
    {
      "cell_type": "markdown",
      "source": [
        "### 12. Clipping  _(fácil)_\n",
        "\n",
        "Dado `a = [2, 5, 7, 1, 9]`, limite os valores ao intervalo [0,5] (valores acima de 5 tornam-se 5)."
      ],
      "metadata": {
        "id": "_O4I6m5JFYea"
      }
    },
    {
      "cell_type": "code",
      "source": [
        "v = np.array([2,5,7,1,9])\n",
        "v = np.clip(v, 0, 5)\n",
        "print(v)"
      ],
      "metadata": {
        "id": "XgIuCowwFZa_",
        "colab": {
          "base_uri": "https://localhost:8080/"
        },
        "outputId": "cf7c2cfc-b8f5-4cb0-e1e3-890d5bb335fd"
      },
      "execution_count": null,
      "outputs": [
        {
          "output_type": "stream",
          "name": "stdout",
          "text": [
            "[2 5 5 1 5]\n"
          ]
        }
      ]
    },
    {
      "cell_type": "markdown",
      "source": [],
      "metadata": {
        "id": "8otUSzZLbKBQ"
      }
    },
    {
      "cell_type": "markdown",
      "source": [
        "### 13. Inversão  _(fácil)_\n",
        "\n",
        "Crie um vetor de 0 a 9 e inverta a ordem (sem usar `[::-1]`).\n"
      ],
      "metadata": {
        "id": "KdVJ_b91bfP4"
      }
    },
    {
      "cell_type": "code",
      "source": [
        "v = np.arange(10)\n",
        "print(v)\n",
        "v = np.flip(v)\n",
        "print(v)"
      ],
      "metadata": {
        "colab": {
          "base_uri": "https://localhost:8080/"
        },
        "id": "tXolpqsibgj6",
        "outputId": "f48d369d-7fe7-4f44-b937-0a1c007d45b4"
      },
      "execution_count": null,
      "outputs": [
        {
          "output_type": "stream",
          "name": "stdout",
          "text": [
            "[0 1 2 3 4 5 6 7 8 9]\n",
            "[9 8 7 6 5 4 3 2 1 0]\n"
          ]
        }
      ]
    },
    {
      "cell_type": "markdown",
      "source": [
        "### 14. Empilhamento  _(fácil)_\n",
        "\n",
        "Dado `a = [1,2,3]` e `b = [4,5,6]`, empilhe horizontal e verticalmente."
      ],
      "metadata": {
        "id": "luCI0oxrcpCY"
      }
    },
    {
      "cell_type": "code",
      "source": [
        "a = np.array([1,2,3])\n",
        "b = np.array([4,5,6])\n",
        "v = np.block([[a],[b]])\n",
        "print(v)"
      ],
      "metadata": {
        "colab": {
          "base_uri": "https://localhost:8080/"
        },
        "id": "WDU7sBchcsF6",
        "outputId": "b2843f1c-ead3-4c86-8222-efb4ffb5eaa6"
      },
      "execution_count": null,
      "outputs": [
        {
          "output_type": "stream",
          "name": "stdout",
          "text": [
            "[[1 2 3]\n",
            " [4 5 6]]\n"
          ]
        }
      ]
    },
    {
      "cell_type": "markdown",
      "source": [
        "### 15. Diagonal  _(fácil)_\n",
        "\n",
        "Crie uma matriz 4×4 com a diagonal principal igual a 5 e as demais entradas zero."
      ],
      "metadata": {
        "id": "1VFokGRHdniH"
      }
    },
    {
      "cell_type": "code",
      "source": [
        "v = np.diag([5, 5, 5, 5])\n",
        "print(v)"
      ],
      "metadata": {
        "colab": {
          "base_uri": "https://localhost:8080/"
        },
        "id": "3InjlP9bdouS",
        "outputId": "4d51adf4-3d67-4c90-aeea-7a7c33e7f27a"
      },
      "execution_count": null,
      "outputs": [
        {
          "output_type": "stream",
          "name": "stdout",
          "text": [
            "[[5 0 0 0 0]\n",
            " [0 5 0 0 0]\n",
            " [0 0 5 0 0]\n",
            " [0 0 0 5 0]\n",
            " [0 0 0 0 6]]\n"
          ]
        }
      ]
    },
    {
      "cell_type": "markdown",
      "source": [
        "### 16. Somas por eixo  _(fácil)_\n",
        "\n",
        "Para a matriz `A = np.arange(12).reshape(3,4)`, calcule a soma por linhas e por colunas."
      ],
      "metadata": {
        "id": "uUnCZOnyd_C2"
      }
    },
    {
      "cell_type": "code",
      "source": [
        "v = np.arange(12).reshape(3, 4)\n",
        "linhas = v.sum(axis=1)\n",
        "colunas = v.sum(axis=0)\n",
        "print(v)\n",
        "print(linhas)\n",
        "print(colunas)\n"
      ],
      "metadata": {
        "colab": {
          "base_uri": "https://localhost:8080/"
        },
        "id": "Je3P-abmd_5a",
        "outputId": "b2b27633-25b7-4c40-a46c-b542dd8b3c8f"
      },
      "execution_count": null,
      "outputs": [
        {
          "output_type": "stream",
          "name": "stdout",
          "text": [
            "[[ 0  1  2  3]\n",
            " [ 4  5  6  7]\n",
            " [ 8  9 10 11]]\n",
            "[ 6 22 38]\n",
            "[12 15 18 21]\n"
          ]
        }
      ]
    },
    {
      "cell_type": "markdown",
      "source": [
        "### 17. Frequências inteiras  _(fácil)_\n",
        "\n",
        "Gere 100 inteiros aleatórios em [0,9] e conte as frequências de cada valor (0 a 9)"
      ],
      "metadata": {
        "id": "Uvn_sJC_eaLn"
      }
    },
    {
      "cell_type": "code",
      "source": [
        "v = np.random.randint(0, 10, 100)\n",
        "f = np.bincount(v, minlength=10)\n",
        "print(v)\n",
        "print(f)\n"
      ],
      "metadata": {
        "colab": {
          "base_uri": "https://localhost:8080/"
        },
        "id": "DfhziTyJebW4",
        "outputId": "17d08dbe-a6b6-4ba9-e02f-83c042a94519"
      },
      "execution_count": null,
      "outputs": [
        {
          "output_type": "stream",
          "name": "stdout",
          "text": [
            "[6 3 6 3 4 5 5 6 9 3 8 7 0 9 3 6 9 5 1 0 0 4 2 9 2 2 4 7 1 2 5 6 0 1 1 6 4\n",
            " 5 7 8 8 4 5 7 4 3 0 9 7 0 0 9 9 8 2 4 0 2 8 7 0 0 5 4 9 8 0 0 8 9 2 2 4 9\n",
            " 2 9 4 8 7 1 8 0 0 3 4 9 6 3 5 1 8 4 9 9 5 0 3 6 3 5]\n",
            "[15  6  9  9 12 10  8  7 10 14]\n"
          ]
        }
      ]
    },
    {
      "cell_type": "markdown",
      "source": [
        "### 18. Slicing com passo  _(fácil)_\n",
        "\n",
        "Dado `v = np.arange(20)`, selecione cada 3º elemento começando do índice 1."
      ],
      "metadata": {
        "id": "dYygPvpUfAZb"
      }
    },
    {
      "cell_type": "code",
      "source": [
        "\n",
        "v = np.arange(20)\n",
        "r = v[1::3]\n",
        "print(v)\n",
        "print(r)"
      ],
      "metadata": {
        "colab": {
          "base_uri": "https://localhost:8080/"
        },
        "id": "OETglFSVfBi3",
        "outputId": "d1ce0df9-285d-43bb-ca3d-68784c391146"
      },
      "execution_count": null,
      "outputs": [
        {
          "output_type": "stream",
          "name": "stdout",
          "text": [
            "[ 0  1  2  3  4  5  6  7  8  9 10 11 12 13 14 15 16 17 18 19]\n",
            "[ 1  4  7 10 13 16 19]\n"
          ]
        }
      ]
    },
    {
      "cell_type": "markdown",
      "source": [
        "### 19. Máscara booleana  _(fácil)_\n",
        "\n",
        "Crie uma máscara para números pares de `0…19` e use-a para filtrar o vetor."
      ],
      "metadata": {
        "id": "EtfC1D3ifZhU"
      }
    },
    {
      "cell_type": "code",
      "source": [
        "v = np.arange(20)\n",
        "m = v % 2 == 0\n",
        "v[m]\n"
      ],
      "metadata": {
        "colab": {
          "base_uri": "https://localhost:8080/"
        },
        "id": "C_r3m7x0fZ7r",
        "outputId": "17be4bc7-c863-4e90-cb76-fa6a6d0c0e5b"
      },
      "execution_count": null,
      "outputs": [
        {
          "output_type": "execute_result",
          "data": {
            "text/plain": [
              "array([ 0,  2,  4,  6,  8, 10, 12, 14, 16, 18])"
            ]
          },
          "metadata": {},
          "execution_count": 19
        }
      ]
    },
    {
      "cell_type": "markdown",
      "source": [
        "\n",
        "### 20. Lista de listas → array  _(fácil)_\n",
        "\n",
        "Converta `[[1,2,3],[4,5,6]]` em `ndarray`, verifique `shape` e `dtype`."
      ],
      "metadata": {
        "id": "QDakuL2dfibq"
      }
    },
    {
      "cell_type": "code",
      "source": [
        "l = [[1,2,3],[4,5,6]]\n",
        "a = np.array(l)\n",
        "print(a.shape)\n",
        "print(a.dtype)"
      ],
      "metadata": {
        "colab": {
          "base_uri": "https://localhost:8080/"
        },
        "id": "k-jWBq4VfjI2",
        "outputId": "9b2c00eb-d0cb-4c51-f678-b8b5a2fadc5b"
      },
      "execution_count": null,
      "outputs": [
        {
          "output_type": "stream",
          "name": "stdout",
          "text": [
            "(2, 3)\n",
            "int64\n"
          ]
        }
      ]
    },
    {
      "cell_type": "markdown",
      "source": [
        "### 21. Datas básicas  _(fácil)_\n",
        "\n",
        "Crie um array de datas diárias de 2025-01-01 a 2025-01-07 (inclusive).\n"
      ],
      "metadata": {
        "id": "t46ZAcr9gCUY"
      }
    },
    {
      "cell_type": "code",
      "source": [
        "d = np.arange('2025-01-01', '2025-01-08', dtype='datetime64[D]')\n",
        "print(d)"
      ],
      "metadata": {
        "colab": {
          "base_uri": "https://localhost:8080/"
        },
        "id": "Z5oygn1mgCyu",
        "outputId": "ac90478d-cda5-409e-8dc1-c3f7dbf5e401"
      },
      "execution_count": null,
      "outputs": [
        {
          "output_type": "stream",
          "name": "stdout",
          "text": [
            "['2025-01-01' '2025-01-02' '2025-01-03' '2025-01-04' '2025-01-05'\n",
            " '2025-01-06' '2025-01-07']\n"
          ]
        }
      ]
    },
    {
      "cell_type": "markdown",
      "source": [
        "### 22. Centralizar colunas  _(fácil)_\n",
        "\n",
        "Dada `A = np.array([[1.,2.,3.],[4.,5.,6.]])`, subtraia a média de cada coluna."
      ],
      "metadata": {
        "id": "xx347yZAgMZA"
      }
    },
    {
      "cell_type": "code",
      "source": [
        "a = np.array([[1.,2.,3.],[4.,5.,6.]])\n",
        "a - a.mean(axis=0)\n",
        "print(a)"
      ],
      "metadata": {
        "colab": {
          "base_uri": "https://localhost:8080/"
        },
        "id": "2oslFSDRgNPD",
        "outputId": "b02f5f6a-8e72-446c-e34e-71eb17f92539"
      },
      "execution_count": null,
      "outputs": [
        {
          "output_type": "stream",
          "name": "stdout",
          "text": [
            "[[1. 2. 3.]\n",
            " [4. 5. 6.]]\n"
          ]
        }
      ]
    },
    {
      "cell_type": "markdown",
      "source": [
        "### 23. Produto elemento-a-elemento vs. escalar  _(fácil)_\n",
        "\n",
        "Dadas `a=[1,2,3]` e `b=[4,5,6]`, calcule produto elemento a elemento e o produto escalar.\n"
      ],
      "metadata": {
        "id": "3GPkdx7qgfDu"
      }
    },
    {
      "cell_type": "code",
      "source": [
        "a = np.array([1,2,3])\n",
        "b = np.array([4,5,6])\n",
        "print(a * b)\n",
        "print(a @ b)\n"
      ],
      "metadata": {
        "colab": {
          "base_uri": "https://localhost:8080/"
        },
        "id": "GAs4Wz3DggZP",
        "outputId": "1bd45a06-04c0-4349-f58b-2555ac89d801"
      },
      "execution_count": null,
      "outputs": [
        {
          "output_type": "stream",
          "name": "stdout",
          "text": [
            "[ 4 10 18]\n",
            "32\n"
          ]
        }
      ]
    },
    {
      "cell_type": "markdown",
      "source": [
        "### 24. Troca de colunas  _(fácil)_\n",
        "\n",
        "Troque as colunas 0 e 2 de `A = np.arange(12).reshape(3,4)` sem copiar (sempre que possível)."
      ],
      "metadata": {
        "id": "ca1kTkwRg7Q-"
      }
    },
    {
      "cell_type": "code",
      "source": [
        "a = np.arange(12).reshape(3,4)\n",
        "a[:, [0, 2]] = a[:, [2, 0]]\n",
        "print(a)"
      ],
      "metadata": {
        "colab": {
          "base_uri": "https://localhost:8080/"
        },
        "id": "y8VLOUFpg71k",
        "outputId": "1f9e207d-89ca-4ddd-c9e7-54080c781611"
      },
      "execution_count": null,
      "outputs": [
        {
          "output_type": "stream",
          "name": "stdout",
          "text": [
            "[[ 2  1  0  3]\n",
            " [ 6  5  4  7]\n",
            " [10  9  8 11]]\n"
          ]
        }
      ]
    },
    {
      "cell_type": "markdown",
      "source": [
        "## Médios (12)\n",
        "\n",
        "### 25. Flatten vs. ravel  _(médio)_\n",
        "\n",
        "Mostre a diferença entre `flatten()` (cópia) e `ravel()` (view quando possível). Modifique o resultado de `ravel()` e observe o original.\n"
      ],
      "metadata": {
        "id": "UF_ukpJJhMYj"
      }
    },
    {
      "cell_type": "code",
      "source": [
        "a = np.array([[1,2,3],[4,5,6]])\n",
        "f = a.flatten()\n",
        "r = a.ravel()\n",
        "r[0] = 99\n",
        "print(a)\n",
        "print(f)\n",
        "print(r)"
      ],
      "metadata": {
        "colab": {
          "base_uri": "https://localhost:8080/"
        },
        "id": "D6NLP2VthNhw",
        "outputId": "5a295908-2912-4218-d778-e1eb49952022"
      },
      "execution_count": null,
      "outputs": [
        {
          "output_type": "stream",
          "name": "stdout",
          "text": [
            "[[99  2  3]\n",
            " [ 4  5  6]]\n",
            "[1 2 3 4 5 6]\n",
            "[99  2  3  4  5  6]\n"
          ]
        }
      ]
    },
    {
      "cell_type": "markdown",
      "source": [
        "### 26. Tabuleiro 8×8  _(médio)_\n",
        "\n",
        "Crie uma matriz 8×8 com padrão de tabuleiro (0 e 1 alternados)."
      ],
      "metadata": {
        "id": "b5sMz9WLhhNW"
      }
    },
    {
      "cell_type": "code",
      "source": [
        "t = np.zeros((8,8), dtype=int)\n",
        "t[1::2, ::2] = 1\n",
        "t[::2, 1::2] = 1\n",
        "print(t)"
      ],
      "metadata": {
        "colab": {
          "base_uri": "https://localhost:8080/"
        },
        "id": "A-V7DXdchiAh",
        "outputId": "0ea0ca31-22cf-4062-d400-eb40db7f3243"
      },
      "execution_count": null,
      "outputs": [
        {
          "output_type": "stream",
          "name": "stdout",
          "text": [
            "[[0 1 0 1 0 1 0 1]\n",
            " [1 0 1 0 1 0 1 0]\n",
            " [0 1 0 1 0 1 0 1]\n",
            " [1 0 1 0 1 0 1 0]\n",
            " [0 1 0 1 0 1 0 1]\n",
            " [1 0 1 0 1 0 1 0]\n",
            " [0 1 0 1 0 1 0 1]\n",
            " [1 0 1 0 1 0 1 0]]\n"
          ]
        }
      ]
    },
    {
      "cell_type": "markdown",
      "source": [
        "### 27. np.where condicional  _(médio)_\n",
        "\n",
        "Dado `x = np.arange(-5,6)`, substitua negativos por 0 e mantenha não-negativos."
      ],
      "metadata": {
        "id": "2kvtTv77hqbF"
      }
    },
    {
      "cell_type": "code",
      "source": [
        "x = np.arange(-5, 6)\n",
        "print(np.where(x < 0, 0, x))"
      ],
      "metadata": {
        "colab": {
          "base_uri": "https://localhost:8080/"
        },
        "id": "1-hbz-V0hrzH",
        "outputId": "62632cc8-eae6-4ff6-afec-27d076a990fb"
      },
      "execution_count": null,
      "outputs": [
        {
          "output_type": "stream",
          "name": "stdout",
          "text": [
            "[0 0 0 0 0 0 1 2 3 4 5]\n"
          ]
        }
      ]
    },
    {
      "cell_type": "markdown",
      "source": [
        "### 28. Precisão de média  _(médio)_\n",
        "\n",
        "Gere 1_000_000 floats uniformes em [0,1) e compute a média. Compare com o valor teórico 0.5 (erro absoluto)."
      ],
      "metadata": {
        "id": "kGhJaDa2h3c5"
      }
    },
    {
      "cell_type": "code",
      "source": [
        "x = np.random.rand(1_000_000)\n",
        "m = x.mean()\n",
        "e = abs(m - 0.5)\n",
        "print(m, e)"
      ],
      "metadata": {
        "colab": {
          "base_uri": "https://localhost:8080/"
        },
        "id": "LrMs3RUNh6JT",
        "outputId": "0265843f-25f6-44dc-8ed6-79e2dbf70fef"
      },
      "execution_count": null,
      "outputs": [
        {
          "output_type": "stream",
          "name": "stdout",
          "text": [
            "0.5000425142732954 4.251427329537982e-05\n"
          ]
        }
      ]
    },
    {
      "cell_type": "markdown",
      "source": [
        "### 29. Produto cartesiano (broadcasting)  _(médio)_\n",
        "\n",
        "Dado `a=[1,2,3]` e `b=[10,20,30,40]`, gere todas as somas possíveis `a_i + b_j` via broadcasting (matriz 3×4)."
      ],
      "metadata": {
        "id": "CdtS90iLiF6d"
      }
    },
    {
      "cell_type": "code",
      "source": [
        "a = np.array([1,2,3])\n",
        "b = np.array([10,20,30,40])\n",
        "print(a[:, None] + b)"
      ],
      "metadata": {
        "colab": {
          "base_uri": "https://localhost:8080/"
        },
        "id": "w7on4EiWiHXd",
        "outputId": "23943099-9b95-4614-c311-69aec4c9f068"
      },
      "execution_count": null,
      "outputs": [
        {
          "output_type": "stream",
          "name": "stdout",
          "text": [
            "[[11 21 31 41]\n",
            " [12 22 32 42]\n",
            " [13 23 33 43]]\n"
          ]
        }
      ]
    },
    {
      "cell_type": "markdown",
      "source": [
        "### 30. Convolução 1D simples  _(médio)_\n",
        "\n",
        "Implemente uma convolução 1D 'valid' de um sinal `s` por um kernel `k` usando `np.flip` e `np.lib.stride_tricks.sliding_window_view` (sem `np.convolve`)."
      ],
      "metadata": {
        "id": "xOiJUzPOiPEb"
      }
    },
    {
      "cell_type": "code",
      "source": [
        "s = np.array([1,2,3,4,5])\n",
        "k = np.array([1,0,-1])\n",
        "w = np.lib.stride_tricks.sliding_window_view(s, k.size)\n",
        "r = (w * np.flip(k)).sum(axis=1)\n",
        "print(r)"
      ],
      "metadata": {
        "colab": {
          "base_uri": "https://localhost:8080/"
        },
        "id": "Eda4exeliPzl",
        "outputId": "a981cf9a-c11a-4be0-bfee-3995c22e7be9"
      },
      "execution_count": null,
      "outputs": [
        {
          "output_type": "stream",
          "name": "stdout",
          "text": [
            "[2 2 2]\n"
          ]
        }
      ]
    },
    {
      "cell_type": "markdown",
      "source": [
        "\n",
        "### 31. Normalização min–max por coluna  _(médio)_\n",
        "\n",
        "Dada `A = rng.normal(size=(5,4))`, normalize cada coluna para o intervalo [0,1], tratando colunas constantes."
      ],
      "metadata": {
        "id": "S384RiMXimkQ"
      }
    },
    {
      "cell_type": "code",
      "source": [
        "randum = np.random.default_rng()\n",
        "a = randum.normal(size=(5,4))\n",
        "mn = a.min(axis=0)\n",
        "mx = a.max(axis=0)\n",
        "r = mx - mn\n",
        "r[r == 0] = 1\n",
        "print((a - mn) / r)"
      ],
      "metadata": {
        "colab": {
          "base_uri": "https://localhost:8080/"
        },
        "id": "l5ugu4oBinPN",
        "outputId": "dcee5ca5-ebe7-4ddc-da82-972167568a0b"
      },
      "execution_count": null,
      "outputs": [
        {
          "output_type": "stream",
          "name": "stdout",
          "text": [
            "[[0.74380465 0.37175103 0.         0.        ]\n",
            " [0.         1.         0.21722978 0.21292599]\n",
            " [1.         0.         0.2021919  0.26777395]\n",
            " [0.98876598 0.37554674 0.06553795 0.80125264]\n",
            " [0.90167976 0.32695517 1.         1.        ]]\n"
          ]
        }
      ]
    },
    {
      "cell_type": "markdown",
      "source": [
        "### 32. Ordenar por coluna  _(médio)_\n",
        "\n",
        "Ordene as linhas de `A = np.array([[3,9],[1,4],[2,5]])` pelo valor crescente da 2ª coluna.\n"
      ],
      "metadata": {
        "id": "8gKrBhJ9i7WS"
      }
    },
    {
      "cell_type": "code",
      "source": [
        "a = np.array([[3,9],[1,4],[2,5]])\n",
        "print(a[a[:,1].argsort()])"
      ],
      "metadata": {
        "colab": {
          "base_uri": "https://localhost:8080/"
        },
        "id": "NdmPOCsPi9AF",
        "outputId": "1603c26b-b6da-4641-cb95-3f8c8664eaa6"
      },
      "execution_count": null,
      "outputs": [
        {
          "output_type": "stream",
          "name": "stdout",
          "text": [
            "[[1 4]\n",
            " [2 5]\n",
            " [3 9]]\n"
          ]
        }
      ]
    },
    {
      "cell_type": "markdown",
      "source": [
        "### 33. Únicos + contagens + primeira ocorrência  _(médio)_\n",
        "\n",
        "Para `x = [3,1,2,3,2,3,1]`, obtenha valores únicos, contagens e índice da primeira ocorrência de cada valor."
      ],
      "metadata": {
        "id": "6W4JZqdsjGWw"
      }
    },
    {
      "cell_type": "code",
      "source": [
        "x = np.array([3,1,2,3,2,3,1])\n",
        "u, i, c = np.unique(x, return_index=True, return_counts=True)\n",
        "print(u, i, c)"
      ],
      "metadata": {
        "colab": {
          "base_uri": "https://localhost:8080/"
        },
        "id": "hw29IxXXjHAb",
        "outputId": "351fcf09-c930-429e-f896-351b85785c47"
      },
      "execution_count": null,
      "outputs": [
        {
          "output_type": "stream",
          "name": "stdout",
          "text": [
            "[1 2 3] [1 2 0] [2 2 3]\n"
          ]
        }
      ]
    },
    {
      "cell_type": "markdown",
      "source": [
        "\n",
        "### 34. Matriz de distâncias 2D  _(médio)_\n",
        "\n",
        "Dada `P` com N pontos 2D, compute a matriz NxN de distâncias euclidianas sem loops explícitos.\n"
      ],
      "metadata": {
        "id": "MkqvjPFYjN7R"
      }
    },
    {
      "cell_type": "code",
      "source": [
        "p = np.random.rand(5, 2)\n",
        "d = np.sqrt(((p[:, None, :] - p[None, :, :]) ** 2).sum(axis=2))\n",
        "print(d)"
      ],
      "metadata": {
        "colab": {
          "base_uri": "https://localhost:8080/"
        },
        "id": "E4dsIHdTjOtr",
        "outputId": "1299d160-ac59-402a-c624-29d27bf06b7f"
      },
      "execution_count": null,
      "outputs": [
        {
          "output_type": "stream",
          "name": "stdout",
          "text": [
            "[[0.         1.0533286  0.69684879 0.83872193 0.52382653]\n",
            " [1.0533286  0.         0.380242   0.53553894 0.54029585]\n",
            " [0.69684879 0.380242   0.         0.3173953  0.24981939]\n",
            " [0.83872193 0.53553894 0.3173953  0.         0.5391791 ]\n",
            " [0.52382653 0.54029585 0.24981939 0.5391791  0.        ]]\n"
          ]
        }
      ]
    },
    {
      "cell_type": "markdown",
      "source": [
        "### 35. Covariância e correlação  _(médio)_\n",
        "\n",
        "Simule uma matriz 1000×3 de N(0,1) e compute `cov` (colunas como variáveis) e `corrcoef`."
      ],
      "metadata": {
        "id": "55xoNm8ekIS6"
      }
    },
    {
      "cell_type": "code",
      "source": [
        "randum = np.random.default_rng()\n",
        "a = randum.standard_normal((1000, 3))\n",
        "cov = np.cov(A, rowvar=False)\n",
        "corr = np.corrcoef(A, rowvar=False)\n",
        "print(cov, corr)"
      ],
      "metadata": {
        "colab": {
          "base_uri": "https://localhost:8080/"
        },
        "id": "IqEz6He6kUXf",
        "outputId": "7e3f9b43-0308-4e78-f6dc-cc48acaf87a4"
      },
      "execution_count": null,
      "outputs": [
        {
          "output_type": "stream",
          "name": "stdout",
          "text": [
            "[[1.  2.5]\n",
            " [2.5 7. ]] [[1.         0.94491118]\n",
            " [0.94491118 1.        ]]\n"
          ]
        }
      ]
    },
    {
      "cell_type": "markdown",
      "source": [
        "### 36. One-hot encoding  _(médio)_\n",
        "\n",
        "Converta os rótulos `y = [2,0,1,2]` em codificação one-hot usando apenas operações NumPy."
      ],
      "metadata": {
        "id": "UaAIeH4akhj1"
      }
    },
    {
      "cell_type": "code",
      "source": [
        "y = np.array([2,0,1,2])\n",
        "n = y.max() + 1\n",
        "o = np.eye(n)[y]\n",
        "print(o)"
      ],
      "metadata": {
        "colab": {
          "base_uri": "https://localhost:8080/"
        },
        "id": "9urQpJXdkkhP",
        "outputId": "925acae7-271e-4e67-b71e-9f6423b272d0"
      },
      "execution_count": null,
      "outputs": [
        {
          "output_type": "stream",
          "name": "stdout",
          "text": [
            "[[0. 0. 1.]\n",
            " [1. 0. 0.]\n",
            " [0. 1. 0.]\n",
            " [0. 0. 1.]]\n"
          ]
        }
      ]
    },
    {
      "cell_type": "markdown",
      "source": [
        "### 37. k-means 2D (NumPy puro)  _(difícil)_\n",
        "\n",
        "Implemente k-means com K=3 em pontos 2D: inicialize centróides aleatórios, faça 10 iterações de (1) atribuir pontos ao centróide mais próximo e (2) recomputar centróides."
      ],
      "metadata": {
        "id": "BAWvsJ4sq-MH"
      }
    },
    {
      "cell_type": "code",
      "source": [
        "x = np.random.randn(150, 2) * 2 + np.array([2, 4])\n",
        "x[:50] += np.array([5, -3])\n",
        "x[50:100] += np.array([-4, 0])\n",
        "\n",
        "k = 3\n",
        "t = 10\n",
        "r = np.random.default_rng(0)\n",
        "n = x.shape[0]\n",
        "j = r.choice(n, k, replace=False)\n",
        "c = x[j].copy()\n",
        "\n",
        "for i in range(t):\n",
        "    d = ((x[:, None, :] - c[None, :, :])**2).sum(axis=2)\n",
        "    l = d.argmin(axis=1)\n",
        "    for u in range(k):\n",
        "        a = x[l == u]\n",
        "        if a.shape[0] > 0:\n",
        "            c[u] = a.mean(axis=0)\n",
        "        else:\n",
        "            c[u] = x[r.integers(0, n)]\n",
        "\n",
        "print(c)\n"
      ],
      "metadata": {
        "colab": {
          "base_uri": "https://localhost:8080/"
        },
        "id": "NDSdctZnq-_t",
        "outputId": "25031ad8-0e7a-490c-bb9a-8b93f155a3a3"
      },
      "execution_count": 2,
      "outputs": [
        {
          "output_type": "stream",
          "name": "stdout",
          "text": [
            "[[-2.80080419  2.86980814]\n",
            " [ 6.32082138  1.23647935]\n",
            " [ 0.86944514  5.03616618]]\n"
          ]
        }
      ]
    },
    {
      "cell_type": "markdown",
      "source": [
        "\n",
        "### 38. PCA básica (autovetores)  _(difícil)_\n",
        "\n",
        "Implemente PCA 2D→1D: centralize `X` (N×2), calcule covariância, autovetores, projete em 1D e reconstrua aproximado."
      ],
      "metadata": {
        "id": "svADlkyKwLXO"
      }
    },
    {
      "cell_type": "code",
      "source": [
        "x = np.random.randn(200, 2) * 2 + np.array([3.0, -1.0])\n",
        "m = x.mean(axis=0, keepdims=True)\n",
        "y = x - m\n",
        "s = (y.T @ y) / (y.shape[0] - 1)\n",
        "e, u = np.linalg.eigh(s)\n",
        "i = e.argmax()\n",
        "p = u[:, i]\n",
        "z = y @ p\n",
        "r = z[:, None] @ p[None, :] + m\n",
        "print(z[:5])\n",
        "print(r[:5])\n"
      ],
      "metadata": {
        "colab": {
          "base_uri": "https://localhost:8080/"
        },
        "id": "Q51OkefBwMGa",
        "outputId": "340d6014-dfeb-4ff8-d8db-87def3d0fcaf"
      },
      "execution_count": 3,
      "outputs": [
        {
          "output_type": "stream",
          "name": "stdout",
          "text": [
            "[ 2.83196303  1.64248283 -0.42456021  1.93658042 -2.33683119]\n",
            "[[ 3.50389111  1.80741225]\n",
            " [ 3.23374367  0.6490153 ]\n",
            " [ 2.76428954 -1.36401221]\n",
            " [ 3.30053731  0.9354276 ]\n",
            " [ 2.32998629 -3.22631213]]\n"
          ]
        }
      ]
    },
    {
      "cell_type": "markdown",
      "source": [
        "### 39. Convolução 2D (im2col)  _(difícil)_\n",
        "\n",
        "Implemente convolução 2D 'valid' de uma imagem `I` por um kernel `K` usando `sliding_window_view` para gerar blocos e multiplicação matricial."
      ],
      "metadata": {
        "id": "I4gq3eiawk1S"
      }
    },
    {
      "cell_type": "code",
      "source": [
        "from numpy.lib.stride_tricks import sliding_window_view as s\n",
        "x = np.arange(1, 26, dtype=float).reshape(5, 5)\n",
        "k = np.array([[1, 0, -1],\n",
        "              [1, 0, -1],\n",
        "              [1, 0, -1]], dtype=float)\n",
        "w = s(x, k.shape)\n",
        "c = w.reshape(-1, k.size)\n",
        "f = k.reshape(-1, 1)\n",
        "o = (c @ f).reshape(w.shape[0], w.shape[1])\n",
        "print(o)\n"
      ],
      "metadata": {
        "colab": {
          "base_uri": "https://localhost:8080/"
        },
        "id": "JuPIsR5gwmT5",
        "outputId": "9bdbdc9b-f2c8-45ca-fb78-3dc45cc9cef2"
      },
      "execution_count": 6,
      "outputs": [
        {
          "output_type": "stream",
          "name": "stdout",
          "text": [
            "[[-6. -6. -6.]\n",
            " [-6. -6. -6.]\n",
            " [-6. -6. -6.]]\n"
          ]
        }
      ]
    },
    {
      "cell_type": "markdown",
      "source": [
        "### 40. Sistemas lineares e resíduo  _(difícil)_\n",
        "\n",
        "Gere uma matriz A (100×100) bem-condicionada, um vetor b e resolva `Ax=b` com `np.linalg.solve`. Compute o resíduo relativo `||Ax−b||/||b||` e `cond(A)`."
      ],
      "metadata": {
        "id": "9U1OH7z6xIUR"
      }
    },
    {
      "cell_type": "code",
      "source": [
        "n = 100\n",
        "p = np.random.default_rng(0)\n",
        "m = p.standard_normal((n, n))\n",
        "q, z = np.linalg.qr(m)\n",
        "d = np.linspace(1.0, 3.0, n)\n",
        "a = (q * d) @ q.T\n",
        "b = p.standard_normal(n)\n",
        "x = np.linalg.solve(a, b)\n",
        "v = a @ x - b\n",
        "e = np.linalg.norm(v) / np.linalg.norm(b)\n",
        "c = np.linalg.cond(a)\n",
        "print(e)\n",
        "print(c)\n"
      ],
      "metadata": {
        "colab": {
          "base_uri": "https://localhost:8080/"
        },
        "id": "6iBqToaxxJGD",
        "outputId": "02236fbc-e798-4dca-d516-8fa7276ec516"
      },
      "execution_count": 7,
      "outputs": [
        {
          "output_type": "stream",
          "name": "stdout",
          "text": [
            "4.78164471135892e-16\n",
            "3.000000000000001\n"
          ]
        }
      ]
    },
    {
      "cell_type": "markdown",
      "source": [
        "### 41. Regressão linear (OLS) com NumPy  _(difícil)_\n",
        "\n",
        "Dado `X` (N×d) e `y`, calcule os coeficientes OLS usando `np.linalg.lstsq` e avalie RMSE no treino."
      ],
      "metadata": {
        "id": "IQWStPNtxo4F"
      }
    },
    {
      "cell_type": "code",
      "source": [
        "n, d = 200, 3\n",
        "r = np.random.default_rng(0)\n",
        "x = r.standard_normal((n, d))\n",
        "y = x @ np.array([2.0, -1.0, 0.5]) + 3.0 + r.normal(0, 0.5, n)\n",
        "z = np.c_[np.ones(n), x]\n",
        "w, s, k, t = np.linalg.lstsq(z, y, rcond=None)\n",
        "p = z @ w\n",
        "e = np.sqrt(np.mean((p - y) ** 2))\n",
        "print(w)\n",
        "print(e)\n"
      ],
      "metadata": {
        "colab": {
          "base_uri": "https://localhost:8080/"
        },
        "id": "-gsALagVxy5b",
        "outputId": "37ddd3e9-63b6-44bb-f761-0f25dffbeff0"
      },
      "execution_count": 9,
      "outputs": [
        {
          "output_type": "stream",
          "name": "stdout",
          "text": [
            "[ 2.98193058  1.95500869 -1.0480763   0.52651279]\n",
            "0.5000400414302021\n"
          ]
        }
      ]
    },
    {
      "cell_type": "markdown",
      "source": [
        "### 42. Rolling window 2D com strides  _(difícil)_\n",
        "\n",
        "Usando `sliding_window_view`, compute a média local 3×3 de uma imagem 2D sem laços explícitos.\n"
      ],
      "metadata": {
        "id": "b5cRycOLx8WU"
      }
    },
    {
      "cell_type": "code",
      "source": [
        "from numpy.lib.stride_tricks import sliding_window_view as s\n",
        "x = np.arange(1, 26, dtype=float).reshape(5, 5)\n",
        "w = s(x, (3, 3))\n",
        "y = w.mean(axis=(2, 3))\n",
        "print(y)\n"
      ],
      "metadata": {
        "colab": {
          "base_uri": "https://localhost:8080/"
        },
        "id": "IK_389CEx9CE",
        "outputId": "6b9fd4d8-c925-475a-e9ed-352f788ad298"
      },
      "execution_count": 10,
      "outputs": [
        {
          "output_type": "stream",
          "name": "stdout",
          "text": [
            "[[ 7.  8.  9.]\n",
            " [12. 13. 14.]\n",
            " [17. 18. 19.]]\n"
          ]
        }
      ]
    }
  ]
}